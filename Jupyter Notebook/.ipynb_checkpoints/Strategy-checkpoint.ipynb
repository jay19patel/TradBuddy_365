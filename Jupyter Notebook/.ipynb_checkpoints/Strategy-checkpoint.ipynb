{
 "cells": [
  {
   "cell_type": "code",
   "execution_count": 2,
   "id": "04074762-5362-46f2-9ad3-efe636458316",
   "metadata": {},
   "outputs": [],
   "source": [
    "# ce_condition = ((df[\"2Prev_High\"] > df[\"1Prev_High\"]) \n",
    "#                 & (df[\"2Prev_High\"] < df[\"High\"]) \n",
    "#                 & (df[\"Day_Prev_Candle_Signal\"] == \"Bullish\") \n",
    "#                 & (df[\"RSI\"] <= 80) \n",
    "#                 & (df[\"Candle_Signal\"].shift(1) == \"Bullish\")\n",
    "#                 )\n",
    "\n",
    "# pe_condition = ((df[\"2Prev_Low\"] < df[\"1Prev_Low\"]) \n",
    "#                 & (df[\"2Prev_Low\"] > df[\"Low\"]) \n",
    "#                 & (df[\"Day_Prev_Candle_Signal\"] == \"Bearish\")\n",
    "#                 & (df[\"RSI\"] >= 20) \n",
    "#                 & (df[\"Candle_Signal\"].shift(1) == \"Bearish\")\n",
    "#                 )\n",
    "# df[\"Inside_TradSide\"] = np.select([ce_condition, pe_condition], [\"CE\", \"PE\"], default=\"None\")\n"
   ]
  },
  {
   "cell_type": "code",
   "execution_count": 3,
   "id": "daac0989-d418-42f6-914b-db76abc24292",
   "metadata": {},
   "outputs": [],
   "source": [
    "# ce_condition = ((df['High'].shift(1) < df['15EMA'].shift(1)) & (df[\"Close\"] > df['15EMA'])\n",
    "#                 &(df[\"Prev_Candle_Signal\"] != \"Bearish\")\n",
    "#                )\n",
    "\n",
    "# pe_condition = ((df['Low'].shift(1) > df['15EMA'].shift(1)) & (df[\"Close\"] < df['15EMA'])\n",
    "#                 &(df[\"Prev_Candle_Signal\"] != \"Bullish\")\n",
    "#                )\n",
    "\n",
    "# df['TradSide_EMA'] = np.select([ce_condition, pe_condition], ['CE', 'PE'], default='None')"
   ]
  },
  {
   "cell_type": "code",
   "execution_count": null,
   "id": "e6c24534-8fa2-47eb-b561-8297339b9d40",
   "metadata": {},
   "outputs": [],
   "source": []
  }
 ],
 "metadata": {
  "kernelspec": {
   "display_name": "Python 3 (ipykernel)",
   "language": "python",
   "name": "python3"
  },
  "language_info": {
   "codemirror_mode": {
    "name": "ipython",
    "version": 3
   },
   "file_extension": ".py",
   "mimetype": "text/x-python",
   "name": "python",
   "nbconvert_exporter": "python",
   "pygments_lexer": "ipython3",
   "version": "3.11.3"
  }
 },
 "nbformat": 4,
 "nbformat_minor": 5
}
