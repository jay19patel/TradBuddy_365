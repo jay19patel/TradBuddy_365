{
 "cells": [
  {
   "cell_type": "code",
   "execution_count": 22,
   "id": "ea2c4b56-3230-45f2-bb10-1022786e805c",
   "metadata": {},
   "outputs": [
    {
     "data": {
      "text/plain": [
       "Index(['Day_Open', 'Day_High', 'Day_Low', 'Day_Close', 'Day_SuperTrend',\n",
       "       'Day_Candle', 'Day_CandleBody', 'Day_5EMA', 'Day_15EMA', 'Day_20EMA',\n",
       "       'Day_50EMA', 'Day_200EMA', 'Day_RSI', 'Day_upper_shadow_pr',\n",
       "       'Day_lower_shadow_pr', 'Day_Candle_Signal', 'Day_Prev_Candle_Signal',\n",
       "       'Day_Prev_Candle', 'Day_Date', 'Day_SwingMin', 'Day_SwingMax',\n",
       "       'Datetime', 'Open', 'High', 'Low', 'Close', 'First_Candle_High',\n",
       "       'First_Candle_Low', 'Pivot', 'Candle', 'CandleBody', '5EMA', '15EMA',\n",
       "       '20EMA', '50EMA', '200EMA', 'RSI', 'SuperTrend', 'upper_shadow_pr',\n",
       "       'lower_shadow_pr', 'Candle_Signal', 'Small_Swing_Min',\n",
       "       'Small_Swing_Max'],\n",
       "      dtype='object')"
      ]
     },
     "execution_count": 22,
     "metadata": {},
     "output_type": "execute_result"
    }
   ],
   "source": [
    "import pandas as pd\n",
    "import numpy as np\n",
    "import matplotlib.pyplot as plt\n",
    "df = pd.read_csv(\"Sensex15.csv\").tail(1000)\n",
    "df.columns"
   ]
  },
  {
   "cell_type": "code",
   "execution_count": 23,
   "id": "8397e90a-42d8-48a2-beda-bc57ec254229",
   "metadata": {},
   "outputs": [
    {
     "data": {
      "text/plain": [
       "695.4799999999959"
      ]
     },
     "execution_count": 23,
     "metadata": {},
     "output_type": "execute_result"
    }
   ],
   "source": [
    "df.CandleBody.max()"
   ]
  },
  {
   "cell_type": "code",
   "execution_count": 24,
   "id": "acef6dd0-ce32-4fe3-936c-7df95cd536c4",
   "metadata": {},
   "outputs": [
    {
     "data": {
      "text/plain": [
       "33.69999999999709"
      ]
     },
     "execution_count": 24,
     "metadata": {},
     "output_type": "execute_result"
    }
   ],
   "source": [
    "df.CandleBody.min()"
   ]
  },
  {
   "cell_type": "code",
   "execution_count": 25,
   "id": "ba031cab-04c9-4ea6-a1ff-7bb68910bf97",
   "metadata": {},
   "outputs": [
    {
     "data": {
      "text/plain": [
       "123.55389999999994"
      ]
     },
     "execution_count": 25,
     "metadata": {},
     "output_type": "execute_result"
    }
   ],
   "source": [
    "df.CandleBody.mean()"
   ]
  },
  {
   "cell_type": "code",
   "execution_count": null,
   "id": "f5b8396b-976f-45e2-b7bd-c58f66153dd4",
   "metadata": {},
   "outputs": [],
   "source": []
  },
  {
   "cell_type": "code",
   "execution_count": null,
   "id": "f7f1a0c1-97a1-4673-8bd9-ecb663391eca",
   "metadata": {},
   "outputs": [],
   "source": []
  }
 ],
 "metadata": {
  "kernelspec": {
   "display_name": "Python 3 (ipykernel)",
   "language": "python",
   "name": "python3"
  },
  "language_info": {
   "codemirror_mode": {
    "name": "ipython",
    "version": 3
   },
   "file_extension": ".py",
   "mimetype": "text/x-python",
   "name": "python",
   "nbconvert_exporter": "python",
   "pygments_lexer": "ipython3",
   "version": "3.11.3"
  }
 },
 "nbformat": 4,
 "nbformat_minor": 5
}
