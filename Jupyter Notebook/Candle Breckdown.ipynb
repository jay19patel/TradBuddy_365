{
 "cells": [
  {
   "cell_type": "code",
   "execution_count": 13,
   "id": "ea2c4b56-3230-45f2-bb10-1022786e805c",
   "metadata": {},
   "outputs": [],
   "source": [
    "import pandas as pd\n",
    "import numpy as np\n",
    "import matplotlib.pyplot as plt\n",
    "df = pd.read_csv(\"MainDataSet15m.csv\").tail(1000)"
   ]
  },
  {
   "cell_type": "code",
   "execution_count": 14,
   "id": "21b36a50-58b4-47c3-b788-a9add7c02fcd",
   "metadata": {},
   "outputs": [],
   "source": [
    "df['Prev_Candle_Signal'] =df['Candle_Signal'].shift(1)\n",
    "df['Prev_Candle'] = df['Candle'].shift(1)\n"
   ]
  },
  {
   "cell_type": "code",
   "execution_count": 15,
   "id": "31c99867-0d48-44a8-b22a-72f344fdca14",
   "metadata": {},
   "outputs": [],
   "source": [
    "conditions = [\n",
    "    (df[\"Day_Prev_Candle_Signal\"] == \"Bearish\") & (df[\"SuperTrend\"] == -1) & (df[\"Prev_Candle_Signal\"] == \"Bearish\") ,\n",
    "     (df[\"Day_Prev_Candle_Signal\"] == \"Bullish\") & (df[\"SuperTrend\"] == 1) & (df[\"Prev_Candle_Signal\"] == \"Bullish\"),\n",
    "]\n",
    "\n",
    "choices = [\"PE\", \"CE\"]\n",
    "\n",
    "df[\"TradSide\"] = np.select(conditions, choices, default=\"None\")\n"
   ]
  },
  {
   "cell_type": "code",
   "execution_count": 20,
   "id": "c6bd0b61-bd92-44f4-9010-42f0ea4bf678",
   "metadata": {},
   "outputs": [],
   "source": [
    "ce_condition = ((df['High'].shift(1) < df['15EMA'].shift(1)) & (df[\"Close\"] > df['15EMA'])) | ((df['Candle'].shift(2) == \"Green\") & (df['Candle'].shift(1) == \"Red\") & (df[\"Close\"] >= df['High'].shift(1)) & (df['Low'].shift(2) <= df['Low'].shift(1)))\n",
    "pe_condition = ((df['Low'].shift(1) > df['15EMA'].shift(1)) & (df[\"Close\"] < df['15EMA']) )| ((df['Candle'].shift(2) == \"Red\") & (df['Candle'].shift(1) == \"Green\") & (df[\"Close\"] <= df['Low'].shift(1)) & (df['High'].shift(2) >= df['High'].shift(1)))\n",
    "df['EMA_Cross'] = np.select([ce_condition, pe_condition], ['CE', 'PE'], default='NONE')"
   ]
  },
  {
   "cell_type": "code",
   "execution_count": 21,
   "id": "5d7ea8a9-4ab7-475a-a0e9-3ed7213a4bdd",
   "metadata": {},
   "outputs": [
    {
     "data": {
      "text/plain": [
       "Day_Open                             21990.95\n",
       "Day_High                              22131.3\n",
       "Day_Low                               21950.3\n",
       "Day_Close                             22055.2\n",
       "Day_SuperTrend                              1\n",
       "Day_Candle                              Green\n",
       "Day_CandleBody                          181.0\n",
       "Day_5EMA                         22183.562039\n",
       "Day_15EMA                        22323.780063\n",
       "Day_20EMA                        22334.217971\n",
       "Day_50EMA                        22224.859767\n",
       "Day_200EMA                       21002.800289\n",
       "Day_RSI                             31.210935\n",
       "Day_upper_shadow_pr                 65.182013\n",
       "Day_lower_shadow_pr                 34.817987\n",
       "Day_Candle_Signal                     Neutral\n",
       "Day_Prev_Candle_Signal                Bearish\n",
       "Day_Prev_Candle                           Red\n",
       "Day_Date                           2024-05-10\n",
       "Day_SwingMin                          21137.2\n",
       "Day_SwingMax                          22794.7\n",
       "Datetime                  2024-05-10 09:15:00\n",
       "Open                                 21990.95\n",
       "High                                 22050.55\n",
       "Low                                   21950.3\n",
       "Close                                 22050.0\n",
       "Pivot                                22016.95\n",
       "Candle                                  Green\n",
       "CandleBody                             100.25\n",
       "5EMA                             22005.712955\n",
       "15EMA                            22046.121055\n",
       "20EMA                            22068.718008\n",
       "50EMA                            22165.493642\n",
       "200EMA                           22356.195322\n",
       "RSI                                 56.114078\n",
       "SuperTrend                                 -1\n",
       "upper_shadow_pr                      1.334951\n",
       "lower_shadow_pr                     98.665049\n",
       "Candle_Signal                         Bullish\n",
       "Small_Swing_Min                       21932.4\n",
       "Small_Swing_Max                       22588.8\n",
       "Prev_Candle_Signal                    Bullish\n",
       "Prev_Candle                             Green\n",
       "TradSide                                 None\n",
       "EMA_Cross                                  CE\n",
       "Name: 15243, dtype: object"
      ]
     },
     "execution_count": 21,
     "metadata": {},
     "output_type": "execute_result"
    }
   ],
   "source": [
    "time_enter = \"2024-05-10 09:15\"\n",
    "df[df[\"Datetime\"].str.contains(time_enter)].iloc[-1]"
   ]
  },
  {
   "cell_type": "code",
   "execution_count": null,
   "id": "8397e90a-42d8-48a2-beda-bc57ec254229",
   "metadata": {},
   "outputs": [],
   "source": []
  },
  {
   "cell_type": "code",
   "execution_count": null,
   "id": "acef6dd0-ce32-4fe3-936c-7df95cd536c4",
   "metadata": {},
   "outputs": [],
   "source": []
  },
  {
   "cell_type": "code",
   "execution_count": null,
   "id": "ba031cab-04c9-4ea6-a1ff-7bb68910bf97",
   "metadata": {},
   "outputs": [],
   "source": []
  },
  {
   "cell_type": "code",
   "execution_count": null,
   "id": "2d5aaae7-bacb-40ae-82b4-9706747fe7fa",
   "metadata": {},
   "outputs": [],
   "source": []
  },
  {
   "cell_type": "code",
   "execution_count": null,
   "id": "d1a67f9e-cf75-4765-84c2-0e55f05606ef",
   "metadata": {},
   "outputs": [],
   "source": []
  }
 ],
 "metadata": {
  "kernelspec": {
   "display_name": "Python 3 (ipykernel)",
   "language": "python",
   "name": "python3"
  },
  "language_info": {
   "codemirror_mode": {
    "name": "ipython",
    "version": 3
   },
   "file_extension": ".py",
   "mimetype": "text/x-python",
   "name": "python",
   "nbconvert_exporter": "python",
   "pygments_lexer": "ipython3",
   "version": "3.11.3"
  }
 },
 "nbformat": 4,
 "nbformat_minor": 5
}
